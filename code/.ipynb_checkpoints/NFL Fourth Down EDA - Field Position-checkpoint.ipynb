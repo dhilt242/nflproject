{
 "cells": [
  {
   "cell_type": "code",
   "execution_count": 1,
   "metadata": {},
   "outputs": [],
   "source": [
    "import pandas as pd\n",
    "import numpy as np\n",
    "import seaborn as sns\n",
    "from scipy import stats\n",
    "import matplotlib.pyplot as plt\n",
    "%matplotlib inline\n",
    "sns.set(style=\"whitegrid\")\n",
    "plt.style.use('tableau-colorblind10')"
   ]
  },
  {
   "cell_type": "code",
   "execution_count": 2,
   "metadata": {},
   "outputs": [],
   "source": [
    "pbpfoc4 = pd.read_csv('../data/pbpfoc4.csv')"
   ]
  },
  {
   "cell_type": "code",
   "execution_count": 3,
   "metadata": {},
   "outputs": [
    {
     "data": {
      "text/html": [
       "<div>\n",
       "<style scoped>\n",
       "    .dataframe tbody tr th:only-of-type {\n",
       "        vertical-align: middle;\n",
       "    }\n",
       "\n",
       "    .dataframe tbody tr th {\n",
       "        vertical-align: top;\n",
       "    }\n",
       "\n",
       "    .dataframe thead th {\n",
       "        text-align: right;\n",
       "    }\n",
       "</style>\n",
       "<table border=\"1\" class=\"dataframe\">\n",
       "  <thead>\n",
       "    <tr style=\"text-align: right;\">\n",
       "      <th></th>\n",
       "      <th>play_id</th>\n",
       "      <th>game_id</th>\n",
       "      <th>date_id</th>\n",
       "      <th>home_team</th>\n",
       "      <th>away_team</th>\n",
       "      <th>posteam</th>\n",
       "      <th>posteam_type</th>\n",
       "      <th>defteam</th>\n",
       "      <th>side_of_field</th>\n",
       "      <th>yardline_100</th>\n",
       "      <th>...</th>\n",
       "      <th>pass_touchdown</th>\n",
       "      <th>rush_touchdown</th>\n",
       "      <th>return_touchdown</th>\n",
       "      <th>stad</th>\n",
       "      <th>temp</th>\n",
       "      <th>humd</th>\n",
       "      <th>wspd</th>\n",
       "      <th>wdir</th>\n",
       "      <th>cond</th>\n",
       "      <th>surf</th>\n",
       "    </tr>\n",
       "  </thead>\n",
       "  <tbody>\n",
       "    <tr>\n",
       "      <th>0</th>\n",
       "      <td>139</td>\n",
       "      <td>2009091000</td>\n",
       "      <td>2009-09-10PIT</td>\n",
       "      <td>PIT</td>\n",
       "      <td>TEN</td>\n",
       "      <td>PIT</td>\n",
       "      <td>home</td>\n",
       "      <td>TEN</td>\n",
       "      <td>PIT</td>\n",
       "      <td>56.0</td>\n",
       "      <td>...</td>\n",
       "      <td>0.0</td>\n",
       "      <td>0.0</td>\n",
       "      <td>0.0</td>\n",
       "      <td>Heinz Field</td>\n",
       "      <td>67.0</td>\n",
       "      <td>54.0</td>\n",
       "      <td>9.0</td>\n",
       "      <td>E</td>\n",
       "      <td>Mostly Cloudy</td>\n",
       "      <td>Grass</td>\n",
       "    </tr>\n",
       "    <tr>\n",
       "      <th>1</th>\n",
       "      <td>228</td>\n",
       "      <td>2009091000</td>\n",
       "      <td>2009-09-10PIT</td>\n",
       "      <td>PIT</td>\n",
       "      <td>TEN</td>\n",
       "      <td>TEN</td>\n",
       "      <td>away</td>\n",
       "      <td>PIT</td>\n",
       "      <td>TEN</td>\n",
       "      <td>96.0</td>\n",
       "      <td>...</td>\n",
       "      <td>0.0</td>\n",
       "      <td>0.0</td>\n",
       "      <td>0.0</td>\n",
       "      <td>Heinz Field</td>\n",
       "      <td>67.0</td>\n",
       "      <td>54.0</td>\n",
       "      <td>9.0</td>\n",
       "      <td>E</td>\n",
       "      <td>Mostly Cloudy</td>\n",
       "      <td>Grass</td>\n",
       "    </tr>\n",
       "    <tr>\n",
       "      <th>2</th>\n",
       "      <td>365</td>\n",
       "      <td>2009091000</td>\n",
       "      <td>2009-09-10PIT</td>\n",
       "      <td>PIT</td>\n",
       "      <td>TEN</td>\n",
       "      <td>PIT</td>\n",
       "      <td>home</td>\n",
       "      <td>TEN</td>\n",
       "      <td>TEN</td>\n",
       "      <td>41.0</td>\n",
       "      <td>...</td>\n",
       "      <td>0.0</td>\n",
       "      <td>0.0</td>\n",
       "      <td>0.0</td>\n",
       "      <td>Heinz Field</td>\n",
       "      <td>67.0</td>\n",
       "      <td>54.0</td>\n",
       "      <td>9.0</td>\n",
       "      <td>E</td>\n",
       "      <td>Mostly Cloudy</td>\n",
       "      <td>Grass</td>\n",
       "    </tr>\n",
       "    <tr>\n",
       "      <th>3</th>\n",
       "      <td>522</td>\n",
       "      <td>2009091000</td>\n",
       "      <td>2009-09-10PIT</td>\n",
       "      <td>PIT</td>\n",
       "      <td>TEN</td>\n",
       "      <td>TEN</td>\n",
       "      <td>away</td>\n",
       "      <td>PIT</td>\n",
       "      <td>PIT</td>\n",
       "      <td>19.0</td>\n",
       "      <td>...</td>\n",
       "      <td>0.0</td>\n",
       "      <td>0.0</td>\n",
       "      <td>0.0</td>\n",
       "      <td>Heinz Field</td>\n",
       "      <td>67.0</td>\n",
       "      <td>54.0</td>\n",
       "      <td>9.0</td>\n",
       "      <td>E</td>\n",
       "      <td>Mostly Cloudy</td>\n",
       "      <td>Grass</td>\n",
       "    </tr>\n",
       "    <tr>\n",
       "      <th>4</th>\n",
       "      <td>603</td>\n",
       "      <td>2009091000</td>\n",
       "      <td>2009-09-10PIT</td>\n",
       "      <td>PIT</td>\n",
       "      <td>TEN</td>\n",
       "      <td>PIT</td>\n",
       "      <td>home</td>\n",
       "      <td>TEN</td>\n",
       "      <td>PIT</td>\n",
       "      <td>79.0</td>\n",
       "      <td>...</td>\n",
       "      <td>0.0</td>\n",
       "      <td>0.0</td>\n",
       "      <td>0.0</td>\n",
       "      <td>Heinz Field</td>\n",
       "      <td>67.0</td>\n",
       "      <td>54.0</td>\n",
       "      <td>9.0</td>\n",
       "      <td>E</td>\n",
       "      <td>Mostly Cloudy</td>\n",
       "      <td>Grass</td>\n",
       "    </tr>\n",
       "  </tbody>\n",
       "</table>\n",
       "<p>5 rows × 84 columns</p>\n",
       "</div>"
      ],
      "text/plain": [
       "   play_id     game_id        date_id home_team away_team posteam  \\\n",
       "0      139  2009091000  2009-09-10PIT       PIT       TEN     PIT   \n",
       "1      228  2009091000  2009-09-10PIT       PIT       TEN     TEN   \n",
       "2      365  2009091000  2009-09-10PIT       PIT       TEN     PIT   \n",
       "3      522  2009091000  2009-09-10PIT       PIT       TEN     TEN   \n",
       "4      603  2009091000  2009-09-10PIT       PIT       TEN     PIT   \n",
       "\n",
       "  posteam_type defteam side_of_field  yardline_100  ... pass_touchdown  \\\n",
       "0         home     TEN           PIT          56.0  ...            0.0   \n",
       "1         away     PIT           TEN          96.0  ...            0.0   \n",
       "2         home     TEN           TEN          41.0  ...            0.0   \n",
       "3         away     PIT           PIT          19.0  ...            0.0   \n",
       "4         home     TEN           PIT          79.0  ...            0.0   \n",
       "\n",
       "   rush_touchdown  return_touchdown         stad  temp  humd  wspd  wdir  \\\n",
       "0             0.0               0.0  Heinz Field  67.0  54.0   9.0     E   \n",
       "1             0.0               0.0  Heinz Field  67.0  54.0   9.0     E   \n",
       "2             0.0               0.0  Heinz Field  67.0  54.0   9.0     E   \n",
       "3             0.0               0.0  Heinz Field  67.0  54.0   9.0     E   \n",
       "4             0.0               0.0  Heinz Field  67.0  54.0   9.0     E   \n",
       "\n",
       "            cond   surf  \n",
       "0  Mostly Cloudy  Grass  \n",
       "1  Mostly Cloudy  Grass  \n",
       "2  Mostly Cloudy  Grass  \n",
       "3  Mostly Cloudy  Grass  \n",
       "4  Mostly Cloudy  Grass  \n",
       "\n",
       "[5 rows x 84 columns]"
      ]
     },
     "execution_count": 3,
     "metadata": {},
     "output_type": "execute_result"
    }
   ],
   "source": [
    "pbpfoc4.head()"
   ]
  },
  {
   "cell_type": "code",
   "execution_count": 4,
   "metadata": {},
   "outputs": [
    {
     "data": {
      "text/plain": [
       "punt          23912\n",
       "field_goal     8988\n",
       "pass           3006\n",
       "no_play        1875\n",
       "run            1715\n",
       "qb_kneel         29\n",
       "Name: play_type, dtype: int64"
      ]
     },
     "execution_count": 4,
     "metadata": {},
     "output_type": "execute_result"
    }
   ],
   "source": [
    "pbpfoc4['play_type'].value_counts()"
   ]
  },
  {
   "cell_type": "code",
   "execution_count": 8,
   "metadata": {},
   "outputs": [
    {
     "data": {
      "image/png": "[encoded data removed]",
      "text/plain": [
       "<Figure size 432x288 with 1 Axes>"
      ]
     },
     "metadata": {},
     "output_type": "display_data"
    }
   ],
   "source": [
    "sns.set(style=\"whitegrid\")\n",
    "plt.style.use('tableau-colorblind10')\n",
    "ax = sns.countplot(x=\"play_type\",data=pbpfoc4)\n",
    "sns.set(font_scale=1.5)\n",
    "ax.spines[\"top\"].set_visible(False)    \n",
    "ax.spines[\"bottom\"].set_visible(False)    \n",
    "ax.spines[\"right\"].set_visible(False)    \n",
    "ax.spines[\"left\"].set_visible(False) "
   ]
  },
  {
   "cell_type": "code",
   "execution_count": 5,
   "metadata": {},
   "outputs": [
    {
     "data": {
      "text/plain": [
       "0    3\n",
       "1    5\n",
       "2    3\n",
       "3    1\n",
       "4    4\n",
       "Name: field_zone, dtype: object"
      ]
     },
     "execution_count": 5,
     "metadata": {},
     "output_type": "execute_result"
    }
   ],
   "source": [
    "zones = [] \n",
    "for value in pbpfoc4[\"yardline_100\"]: \n",
    "    if value >= 0 and value < 21: \n",
    "        zones.append('1') \n",
    "    elif value > 20 and value < 41: \n",
    "        zones.append('2')\n",
    "    elif value > 40 and value < 61: \n",
    "        zones.append('3') \n",
    "    elif value > 60 and value < 81: \n",
    "        zones.append('4') \n",
    "    elif value > 80 and value <= 100: \n",
    "        zones.append('5') \n",
    "    else: \n",
    "        zones.append(\"\") \n",
    "\n",
    "pbpfoc4[\"field_zone\"] = pd.Series(zones)\n",
    "pbpfoc4[\"field_zone\"].head()"
   ]
  },
  {
   "cell_type": "code",
   "execution_count": 6,
   "metadata": {},
   "outputs": [
    {
     "data": {
      "text/plain": [
       "0     6\n",
       "1    10\n",
       "2     5\n",
       "3     2\n",
       "4     8\n",
       "Name: field_zone2, dtype: object"
      ]
     },
     "execution_count": 6,
     "metadata": {},
     "output_type": "execute_result"
    }
   ],
   "source": [
    "zones2 = [] \n",
    "for value in pbpfoc4[\"yardline_100\"]: \n",
    "    if value >= 0 and value < 11: \n",
    "        zones2.append(1) \n",
    "    elif value > 10 and value < 21: \n",
    "        zones2.append(2)\n",
    "    elif value > 20 and value < 31: \n",
    "        zones2.append(3) \n",
    "    elif value > 30 and value < 41: \n",
    "        zones2.append(4) \n",
    "    elif value > 40 and value < 51: \n",
    "        zones2.append(5) \n",
    "    elif value > 50 and value < 61: \n",
    "        zones2.append(6)\n",
    "    elif value > 60 and value < 71: \n",
    "        zones2.append(7) \n",
    "    elif value > 70 and value < 81: \n",
    "        zones2.append(8) \n",
    "    elif value > 80 and value < 91: \n",
    "        zones2.append(9)\n",
    "    elif value > 90 and value <= 100: \n",
    "        zones2.append(10)  \n",
    "    else: \n",
    "        zones2.append(\"\")\n",
    "\n",
    "pbpfoc4[\"field_zone2\"] = pd.Series(zones2)\n",
    "    \n",
    "pbpfoc4[\"field_zone2\"].head()"
   ]
  },
  {
   "cell_type": "code",
   "execution_count": 10,
   "metadata": {},
   "outputs": [],
   "source": [
    "pbpfoc4go = pbpfoc4[pbpfoc4['play_type'].isin(['pass','run'])]"
   ]
  },
  {
   "cell_type": "code",
   "execution_count": 11,
   "metadata": {},
   "outputs": [
    {
     "data": {
      "text/plain": [
       "(4721, 86)"
      ]
     },
     "execution_count": 11,
     "metadata": {},
     "output_type": "execute_result"
    }
   ],
   "source": [
    "pbpfoc4go.shape"
   ]
  },
  {
   "cell_type": "code",
   "execution_count": 14,
   "metadata": {},
   "outputs": [
    {
     "data": {
      "image/png": "[encoded data removed]",
      "text/plain": [
       "<Figure size 432x288 with 1 Axes>"
      ]
     },
     "metadata": {},
     "output_type": "display_data"
    }
   ],
   "source": [
    "# success percentages of 4th down by field position (group into 20yds)\n",
    "sns.set(style=\"whitegrid\")\n",
    "plt.style.use('tableau-colorblind10')\n",
    "ax = sns.countplot(x=\"field_zone\", hue=\"fourth_down_converted\", data=pbpfoc4go)\n",
    "sns.set(font_scale=1.5)\n",
    "ax.spines[\"top\"].set_visible(False)    \n",
    "ax.spines[\"bottom\"].set_visible(False)    \n",
    "ax.spines[\"right\"].set_visible(False)    \n",
    "ax.spines[\"left\"].set_visible(False)\n",
    "fig = ax.get_figure()\n",
    "fig.savefig('4down_success_20zone.png')"
   ]
  },
  {
   "cell_type": "code",
   "execution_count": 15,
   "metadata": {},
   "outputs": [
    {
     "data": {
      "image/png": "[encoded data removed]",
      "text/plain": [
       "<Figure size 432x288 with 1 Axes>"
      ]
     },
     "metadata": {},
     "output_type": "display_data"
    }
   ],
   "source": [
    "# success percentages of 4th down by field position (group into 10yds)\n",
    "sns.set(style=\"whitegrid\")\n",
    "plt.style.use('tableau-colorblind10')\n",
    "ax = sns.countplot(x=\"field_zone2\", hue=\"fourth_down_converted\", data=pbpfoc4go)\n",
    "sns.set(font_scale=1.5)\n",
    "ax.spines[\"top\"].set_visible(False)    \n",
    "ax.spines[\"bottom\"].set_visible(False)    \n",
    "ax.spines[\"right\"].set_visible(False)    \n",
    "ax.spines[\"left\"].set_visible(False)"
   ]
  }
 ],
 "metadata": {
  "kernelspec": {
   "display_name": "Python 3",
   "language": "python",
   "name": "python3"
  },
  "language_info": {
   "codemirror_mode": {
    "name": "ipython",
    "version": 3
   },
   "file_extension": ".py",
   "mimetype": "text/x-python",
   "name": "python",
   "nbconvert_exporter": "python",
   "pygments_lexer": "ipython3",
   "version": "3.6.8"
  }
 },
 "nbformat": 4,
 "nbformat_minor": 2
}
