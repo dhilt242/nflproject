{
 "cells": [
  {
   "cell_type": "code",
   "execution_count": 2,
   "metadata": {},
   "outputs": [],
   "source": [
    "import pandas as pd\n",
    "import numpy as np\n",
    "import datetime"
   ]
  },
  {
   "cell_type": "code",
   "execution_count": 27,
   "metadata": {},
   "outputs": [
    {
     "data": {
      "text/html": [
       "<div>\n",
       "<style scoped>\n",
       "    .dataframe tbody tr th:only-of-type {\n",
       "        vertical-align: middle;\n",
       "    }\n",
       "\n",
       "    .dataframe tbody tr th {\n",
       "        vertical-align: top;\n",
       "    }\n",
       "\n",
       "    .dataframe thead th {\n",
       "        text-align: right;\n",
       "    }\n",
       "</style>\n",
       "<table border=\"1\" class=\"dataframe\">\n",
       "  <thead>\n",
       "    <tr style=\"text-align: right;\">\n",
       "      <th></th>\n",
       "      <th>gid</th>\n",
       "      <th>seas</th>\n",
       "      <th>wk</th>\n",
       "      <th>day</th>\n",
       "      <th>v</th>\n",
       "      <th>h</th>\n",
       "      <th>stad</th>\n",
       "      <th>temp</th>\n",
       "      <th>humd</th>\n",
       "      <th>wspd</th>\n",
       "      <th>wdir</th>\n",
       "      <th>cond</th>\n",
       "      <th>surf</th>\n",
       "      <th>ou</th>\n",
       "      <th>sprv</th>\n",
       "      <th>ptsv</th>\n",
       "      <th>ptsh</th>\n",
       "    </tr>\n",
       "  </thead>\n",
       "  <tbody>\n",
       "    <tr>\n",
       "      <th>0</th>\n",
       "      <td>1</td>\n",
       "      <td>2000</td>\n",
       "      <td>1</td>\n",
       "      <td>SUN</td>\n",
       "      <td>SF</td>\n",
       "      <td>ATL</td>\n",
       "      <td>Georgia Dome</td>\n",
       "      <td>79.0</td>\n",
       "      <td>NaN</td>\n",
       "      <td>NaN</td>\n",
       "      <td>NaN</td>\n",
       "      <td>Dome</td>\n",
       "      <td>AstroTurf</td>\n",
       "      <td>42.5</td>\n",
       "      <td>7.0</td>\n",
       "      <td>28</td>\n",
       "      <td>36</td>\n",
       "    </tr>\n",
       "  </tbody>\n",
       "</table>\n",
       "</div>"
      ],
      "text/plain": [
       "   gid  seas  wk  day   v    h          stad  temp  humd  wspd wdir  cond  \\\n",
       "0    1  2000   1  SUN  SF  ATL  Georgia Dome  79.0   NaN   NaN  NaN  Dome   \n",
       "\n",
       "        surf    ou  sprv  ptsv  ptsh  \n",
       "0  AstroTurf  42.5   7.0    28    36  "
      ]
     },
     "execution_count": 27,
     "metadata": {},
     "output_type": "execute_result"
    }
   ],
   "source": [
    "# importing game data file with playing condition data \n",
    "# from armchairanalysis.com and inspecting headers\n",
    "gamesaa = pd.read_csv('../data/GAME.csv')\n",
    "gamesaa.head(1)"
   ]
  },
  {
   "cell_type": "code",
   "execution_count": 28,
   "metadata": {},
   "outputs": [
    {
     "data": {
      "text/plain": [
       "(5057, 17)"
      ]
     },
     "execution_count": 28,
     "metadata": {},
     "output_type": "execute_result"
    }
   ],
   "source": [
    "gamesaa.shape"
   ]
  },
  {
   "cell_type": "code",
   "execution_count": 29,
   "metadata": {},
   "outputs": [
    {
     "data": {
      "text/html": [
       "<div>\n",
       "<style scoped>\n",
       "    .dataframe tbody tr th:only-of-type {\n",
       "        vertical-align: middle;\n",
       "    }\n",
       "\n",
       "    .dataframe tbody tr th {\n",
       "        vertical-align: top;\n",
       "    }\n",
       "\n",
       "    .dataframe thead th {\n",
       "        text-align: right;\n",
       "    }\n",
       "</style>\n",
       "<table border=\"1\" class=\"dataframe\">\n",
       "  <thead>\n",
       "    <tr style=\"text-align: right;\">\n",
       "      <th></th>\n",
       "      <th>gid</th>\n",
       "      <th>seas</th>\n",
       "      <th>wk</th>\n",
       "      <th>day</th>\n",
       "      <th>date</th>\n",
       "      <th>v</th>\n",
       "      <th>h</th>\n",
       "      <th>stad</th>\n",
       "      <th>surf</th>\n",
       "    </tr>\n",
       "  </thead>\n",
       "  <tbody>\n",
       "    <tr>\n",
       "      <th>0</th>\n",
       "      <td>1</td>\n",
       "      <td>2000</td>\n",
       "      <td>1</td>\n",
       "      <td>SUN</td>\n",
       "      <td>9/3/2000</td>\n",
       "      <td>SF</td>\n",
       "      <td>ATL</td>\n",
       "      <td>Georgia Dome</td>\n",
       "      <td>AstroTurf</td>\n",
       "    </tr>\n",
       "  </tbody>\n",
       "</table>\n",
       "</div>"
      ],
      "text/plain": [
       "   gid  seas  wk  day      date   v    h          stad       surf\n",
       "0    1  2000   1  SUN  9/3/2000  SF  ATL  Georgia Dome  AstroTurf"
      ]
     },
     "execution_count": 29,
     "metadata": {},
     "output_type": "execute_result"
    }
   ],
   "source": [
    "# importing schedule data file from armchairanalysis.com \n",
    "# to get date column and inspecting headers\n",
    "scheduleaa = pd.read_csv('../data/SCHEDULE.csv')\n",
    "scheduleaa.head(1)"
   ]
  },
  {
   "cell_type": "code",
   "execution_count": 30,
   "metadata": {},
   "outputs": [
    {
     "data": {
      "text/plain": [
       "(5057, 9)"
      ]
     },
     "execution_count": 30,
     "metadata": {},
     "output_type": "execute_result"
    }
   ],
   "source": [
    "scheduleaa.shape"
   ]
  },
  {
   "cell_type": "code",
   "execution_count": 31,
   "metadata": {},
   "outputs": [
    {
     "data": {
      "text/html": [
       "<div>\n",
       "<style scoped>\n",
       "    .dataframe tbody tr th:only-of-type {\n",
       "        vertical-align: middle;\n",
       "    }\n",
       "\n",
       "    .dataframe tbody tr th {\n",
       "        vertical-align: top;\n",
       "    }\n",
       "\n",
       "    .dataframe thead th {\n",
       "        text-align: right;\n",
       "    }\n",
       "</style>\n",
       "<table border=\"1\" class=\"dataframe\">\n",
       "  <thead>\n",
       "    <tr style=\"text-align: right;\">\n",
       "      <th></th>\n",
       "      <th>gid</th>\n",
       "      <th>date</th>\n",
       "    </tr>\n",
       "  </thead>\n",
       "  <tbody>\n",
       "    <tr>\n",
       "      <th>0</th>\n",
       "      <td>1</td>\n",
       "      <td>9/3/2000</td>\n",
       "    </tr>\n",
       "    <tr>\n",
       "      <th>1</th>\n",
       "      <td>2</td>\n",
       "      <td>9/3/2000</td>\n",
       "    </tr>\n",
       "    <tr>\n",
       "      <th>2</th>\n",
       "      <td>3</td>\n",
       "      <td>9/3/2000</td>\n",
       "    </tr>\n",
       "    <tr>\n",
       "      <th>3</th>\n",
       "      <td>4</td>\n",
       "      <td>9/3/2000</td>\n",
       "    </tr>\n",
       "    <tr>\n",
       "      <th>4</th>\n",
       "      <td>5</td>\n",
       "      <td>9/3/2000</td>\n",
       "    </tr>\n",
       "  </tbody>\n",
       "</table>\n",
       "</div>"
      ],
      "text/plain": [
       "   gid      date\n",
       "0    1  9/3/2000\n",
       "1    2  9/3/2000\n",
       "2    3  9/3/2000\n",
       "3    4  9/3/2000\n",
       "4    5  9/3/2000"
      ]
     },
     "execution_count": 31,
     "metadata": {},
     "output_type": "execute_result"
    }
   ],
   "source": [
    "# reduce schedule file to just the id and date columns\n",
    "schedule_date = scheduleaa[['gid','date']]\n",
    "schedule_date.head()"
   ]
  },
  {
   "cell_type": "code",
   "execution_count": 40,
   "metadata": {},
   "outputs": [
    {
     "data": {
      "text/plain": [
       "str"
      ]
     },
     "execution_count": 40,
     "metadata": {},
     "output_type": "execute_result"
    }
   ],
   "source": [
    "# inspecting the date column's number format\n",
    "type(schedule_date['date'][15])"
   ]
  },
  {
   "cell_type": "code",
   "execution_count": 33,
   "metadata": {
    "scrolled": true
   },
   "outputs": [
    {
     "name": "stderr",
     "output_type": "stream",
     "text": [
      "/anaconda3/lib/python3.6/site-packages/ipykernel_launcher.py:2: SettingWithCopyWarning: \n",
      "A value is trying to be set on a copy of a slice from a DataFrame.\n",
      "Try using .loc[row_indexer,col_indexer] = value instead\n",
      "\n",
      "See the caveats in the documentation: http://pandas.pydata.org/pandas-docs/stable/indexing.html#indexing-view-versus-copy\n",
      "  \n"
     ]
    }
   ],
   "source": [
    "# switching the date column format to datetime to change date format\n",
    "schedule_date['date'] = pd.to_datetime(schedule_date['date'])"
   ]
  },
  {
   "cell_type": "code",
   "execution_count": 34,
   "metadata": {},
   "outputs": [
    {
     "name": "stderr",
     "output_type": "stream",
     "text": [
      "/anaconda3/lib/python3.6/site-packages/ipykernel_launcher.py:2: SettingWithCopyWarning: \n",
      "A value is trying to be set on a copy of a slice from a DataFrame.\n",
      "Try using .loc[row_indexer,col_indexer] = value instead\n",
      "\n",
      "See the caveats in the documentation: http://pandas.pydata.org/pandas-docs/stable/indexing.html#indexing-view-versus-copy\n",
      "  \n"
     ]
    }
   ],
   "source": [
    "# switching date column format back to str format to prepare for merging\n",
    "schedule_date['date'] = schedule_date['date'].astype('str')"
   ]
  },
  {
   "cell_type": "code",
   "execution_count": 35,
   "metadata": {},
   "outputs": [
    {
     "data": {
      "text/plain": [
       "'2000-09-10'"
      ]
     },
     "execution_count": 35,
     "metadata": {},
     "output_type": "execute_result"
    }
   ],
   "source": [
    "# testing the exact location of the date data within the field\n",
    "schedule_date['date'][15][:10]"
   ]
  },
  {
   "cell_type": "code",
   "execution_count": 36,
   "metadata": {},
   "outputs": [
    {
     "name": "stderr",
     "output_type": "stream",
     "text": [
      "/anaconda3/lib/python3.6/site-packages/ipykernel_launcher.py:2: SettingWithCopyWarning: \n",
      "A value is trying to be set on a copy of a slice from a DataFrame.\n",
      "Try using .loc[row_indexer,col_indexer] = value instead\n",
      "\n",
      "See the caveats in the documentation: http://pandas.pydata.org/pandas-docs/stable/indexing.html#indexing-view-versus-copy\n",
      "  \n"
     ]
    }
   ],
   "source": [
    "# extract date data from above column to create a new 'clean' date column\n",
    "schedule_date['date2'] = schedule_date['date'].str[:10]"
   ]
  },
  {
   "cell_type": "code",
   "execution_count": 37,
   "metadata": {},
   "outputs": [
    {
     "data": {
      "text/plain": [
       "'2018-12-15'"
      ]
     },
     "execution_count": 37,
     "metadata": {},
     "output_type": "execute_result"
    }
   ],
   "source": [
    "# test date new date column\n",
    "schedule_date['date2'][5000]"
   ]
  },
  {
   "cell_type": "code",
   "execution_count": 38,
   "metadata": {},
   "outputs": [
    {
     "data": {
      "text/html": [
       "<div>\n",
       "<style scoped>\n",
       "    .dataframe tbody tr th:only-of-type {\n",
       "        vertical-align: middle;\n",
       "    }\n",
       "\n",
       "    .dataframe tbody tr th {\n",
       "        vertical-align: top;\n",
       "    }\n",
       "\n",
       "    .dataframe thead th {\n",
       "        text-align: right;\n",
       "    }\n",
       "</style>\n",
       "<table border=\"1\" class=\"dataframe\">\n",
       "  <thead>\n",
       "    <tr style=\"text-align: right;\">\n",
       "      <th></th>\n",
       "      <th>gid</th>\n",
       "      <th>date</th>\n",
       "      <th>date2</th>\n",
       "    </tr>\n",
       "  </thead>\n",
       "  <tbody>\n",
       "    <tr>\n",
       "      <th>5047</th>\n",
       "      <td>5048</td>\n",
       "      <td>2019-01-05 20:15:00</td>\n",
       "      <td>2019-01-05</td>\n",
       "    </tr>\n",
       "    <tr>\n",
       "      <th>5048</th>\n",
       "      <td>5049</td>\n",
       "      <td>2019-01-06 13:05:00</td>\n",
       "      <td>2019-01-06</td>\n",
       "    </tr>\n",
       "    <tr>\n",
       "      <th>5049</th>\n",
       "      <td>5050</td>\n",
       "      <td>2019-01-06 16:40:00</td>\n",
       "      <td>2019-01-06</td>\n",
       "    </tr>\n",
       "    <tr>\n",
       "      <th>5050</th>\n",
       "      <td>5051</td>\n",
       "      <td>2019-01-12 16:35:00</td>\n",
       "      <td>2019-01-12</td>\n",
       "    </tr>\n",
       "    <tr>\n",
       "      <th>5051</th>\n",
       "      <td>5052</td>\n",
       "      <td>2019-01-12 20:15:00</td>\n",
       "      <td>2019-01-12</td>\n",
       "    </tr>\n",
       "    <tr>\n",
       "      <th>5052</th>\n",
       "      <td>5053</td>\n",
       "      <td>2019-01-13 13:05:00</td>\n",
       "      <td>2019-01-13</td>\n",
       "    </tr>\n",
       "    <tr>\n",
       "      <th>5053</th>\n",
       "      <td>5054</td>\n",
       "      <td>2019-01-13 16:40:00</td>\n",
       "      <td>2019-01-13</td>\n",
       "    </tr>\n",
       "    <tr>\n",
       "      <th>5054</th>\n",
       "      <td>5055</td>\n",
       "      <td>2019-01-20 15:05:00</td>\n",
       "      <td>2019-01-20</td>\n",
       "    </tr>\n",
       "    <tr>\n",
       "      <th>5055</th>\n",
       "      <td>5056</td>\n",
       "      <td>2019-01-20 18:40:00</td>\n",
       "      <td>2019-01-20</td>\n",
       "    </tr>\n",
       "    <tr>\n",
       "      <th>5056</th>\n",
       "      <td>5057</td>\n",
       "      <td>2019-02-03 18:30:00</td>\n",
       "      <td>2019-02-03</td>\n",
       "    </tr>\n",
       "  </tbody>\n",
       "</table>\n",
       "</div>"
      ],
      "text/plain": [
       "       gid                 date       date2\n",
       "5047  5048  2019-01-05 20:15:00  2019-01-05\n",
       "5048  5049  2019-01-06 13:05:00  2019-01-06\n",
       "5049  5050  2019-01-06 16:40:00  2019-01-06\n",
       "5050  5051  2019-01-12 16:35:00  2019-01-12\n",
       "5051  5052  2019-01-12 20:15:00  2019-01-12\n",
       "5052  5053  2019-01-13 13:05:00  2019-01-13\n",
       "5053  5054  2019-01-13 16:40:00  2019-01-13\n",
       "5054  5055  2019-01-20 15:05:00  2019-01-20\n",
       "5055  5056  2019-01-20 18:40:00  2019-01-20\n",
       "5056  5057  2019-02-03 18:30:00  2019-02-03"
      ]
     },
     "execution_count": 38,
     "metadata": {},
     "output_type": "execute_result"
    }
   ],
   "source": [
    "# test date new date column\n",
    "schedule_date.tail(10)"
   ]
  },
  {
   "cell_type": "code",
   "execution_count": 39,
   "metadata": {
    "scrolled": true
   },
   "outputs": [
    {
     "data": {
      "text/html": [
       "<div>\n",
       "<style scoped>\n",
       "    .dataframe tbody tr th:only-of-type {\n",
       "        vertical-align: middle;\n",
       "    }\n",
       "\n",
       "    .dataframe tbody tr th {\n",
       "        vertical-align: top;\n",
       "    }\n",
       "\n",
       "    .dataframe thead th {\n",
       "        text-align: right;\n",
       "    }\n",
       "</style>\n",
       "<table border=\"1\" class=\"dataframe\">\n",
       "  <thead>\n",
       "    <tr style=\"text-align: right;\">\n",
       "      <th></th>\n",
       "      <th>gid</th>\n",
       "      <th>seas</th>\n",
       "      <th>wk</th>\n",
       "      <th>day</th>\n",
       "      <th>v</th>\n",
       "      <th>h</th>\n",
       "      <th>stad</th>\n",
       "      <th>temp</th>\n",
       "      <th>humd</th>\n",
       "      <th>wspd</th>\n",
       "      <th>wdir</th>\n",
       "      <th>cond</th>\n",
       "      <th>surf</th>\n",
       "      <th>ou</th>\n",
       "      <th>sprv</th>\n",
       "      <th>ptsv</th>\n",
       "      <th>ptsh</th>\n",
       "      <th>date</th>\n",
       "      <th>date2</th>\n",
       "    </tr>\n",
       "  </thead>\n",
       "  <tbody>\n",
       "    <tr>\n",
       "      <th>0</th>\n",
       "      <td>1</td>\n",
       "      <td>2000</td>\n",
       "      <td>1</td>\n",
       "      <td>SUN</td>\n",
       "      <td>SF</td>\n",
       "      <td>ATL</td>\n",
       "      <td>Georgia Dome</td>\n",
       "      <td>79.0</td>\n",
       "      <td>NaN</td>\n",
       "      <td>NaN</td>\n",
       "      <td>NaN</td>\n",
       "      <td>Dome</td>\n",
       "      <td>AstroTurf</td>\n",
       "      <td>42.5</td>\n",
       "      <td>7.0</td>\n",
       "      <td>28</td>\n",
       "      <td>36</td>\n",
       "      <td>2000-09-03 00:00:00</td>\n",
       "      <td>2000-09-03</td>\n",
       "    </tr>\n",
       "    <tr>\n",
       "      <th>1</th>\n",
       "      <td>2</td>\n",
       "      <td>2000</td>\n",
       "      <td>1</td>\n",
       "      <td>SUN</td>\n",
       "      <td>JAC</td>\n",
       "      <td>CLE</td>\n",
       "      <td>Cleveland Browns Stadium</td>\n",
       "      <td>78.0</td>\n",
       "      <td>63.0</td>\n",
       "      <td>9.0</td>\n",
       "      <td>NE</td>\n",
       "      <td>Sunny</td>\n",
       "      <td>Grass</td>\n",
       "      <td>38.0</td>\n",
       "      <td>-10.0</td>\n",
       "      <td>27</td>\n",
       "      <td>7</td>\n",
       "      <td>2000-09-03 00:00:00</td>\n",
       "      <td>2000-09-03</td>\n",
       "    </tr>\n",
       "    <tr>\n",
       "      <th>2</th>\n",
       "      <td>3</td>\n",
       "      <td>2000</td>\n",
       "      <td>1</td>\n",
       "      <td>SUN</td>\n",
       "      <td>PHI</td>\n",
       "      <td>DAL</td>\n",
       "      <td>Texas Stadium</td>\n",
       "      <td>109.0</td>\n",
       "      <td>19.0</td>\n",
       "      <td>5.0</td>\n",
       "      <td>S</td>\n",
       "      <td>Sunny</td>\n",
       "      <td>AstroTurf</td>\n",
       "      <td>40.0</td>\n",
       "      <td>6.0</td>\n",
       "      <td>41</td>\n",
       "      <td>14</td>\n",
       "      <td>2000-09-03 00:00:00</td>\n",
       "      <td>2000-09-03</td>\n",
       "    </tr>\n",
       "    <tr>\n",
       "      <th>3</th>\n",
       "      <td>4</td>\n",
       "      <td>2000</td>\n",
       "      <td>1</td>\n",
       "      <td>SUN</td>\n",
       "      <td>NYJ</td>\n",
       "      <td>GB</td>\n",
       "      <td>Lambeau Field</td>\n",
       "      <td>77.0</td>\n",
       "      <td>66.0</td>\n",
       "      <td>5.0</td>\n",
       "      <td>E</td>\n",
       "      <td>Mostly Cloudy</td>\n",
       "      <td>Grass</td>\n",
       "      <td>36.0</td>\n",
       "      <td>2.5</td>\n",
       "      <td>20</td>\n",
       "      <td>16</td>\n",
       "      <td>2000-09-03 00:00:00</td>\n",
       "      <td>2000-09-03</td>\n",
       "    </tr>\n",
       "    <tr>\n",
       "      <th>4</th>\n",
       "      <td>5</td>\n",
       "      <td>2000</td>\n",
       "      <td>1</td>\n",
       "      <td>SUN</td>\n",
       "      <td>IND</td>\n",
       "      <td>KC</td>\n",
       "      <td>Arrowhead Stadium</td>\n",
       "      <td>90.0</td>\n",
       "      <td>50.0</td>\n",
       "      <td>8.0</td>\n",
       "      <td>E</td>\n",
       "      <td>Mostly Sunny</td>\n",
       "      <td>Grass</td>\n",
       "      <td>44.0</td>\n",
       "      <td>-3.0</td>\n",
       "      <td>27</td>\n",
       "      <td>14</td>\n",
       "      <td>2000-09-03 00:00:00</td>\n",
       "      <td>2000-09-03</td>\n",
       "    </tr>\n",
       "  </tbody>\n",
       "</table>\n",
       "</div>"
      ],
      "text/plain": [
       "   gid  seas  wk  day    v    h                      stad   temp  humd  wspd  \\\n",
       "0    1  2000   1  SUN   SF  ATL              Georgia Dome   79.0   NaN   NaN   \n",
       "1    2  2000   1  SUN  JAC  CLE  Cleveland Browns Stadium   78.0  63.0   9.0   \n",
       "2    3  2000   1  SUN  PHI  DAL             Texas Stadium  109.0  19.0   5.0   \n",
       "3    4  2000   1  SUN  NYJ   GB             Lambeau Field   77.0  66.0   5.0   \n",
       "4    5  2000   1  SUN  IND   KC         Arrowhead Stadium   90.0  50.0   8.0   \n",
       "\n",
       "  wdir           cond       surf    ou  sprv  ptsv  ptsh                 date  \\\n",
       "0  NaN           Dome  AstroTurf  42.5   7.0    28    36  2000-09-03 00:00:00   \n",
       "1   NE          Sunny      Grass  38.0 -10.0    27     7  2000-09-03 00:00:00   \n",
       "2    S          Sunny  AstroTurf  40.0   6.0    41    14  2000-09-03 00:00:00   \n",
       "3    E  Mostly Cloudy      Grass  36.0   2.5    20    16  2000-09-03 00:00:00   \n",
       "4    E   Mostly Sunny      Grass  44.0  -3.0    27    14  2000-09-03 00:00:00   \n",
       "\n",
       "        date2  \n",
       "0  2000-09-03  \n",
       "1  2000-09-03  \n",
       "2  2000-09-03  \n",
       "3  2000-09-03  \n",
       "4  2000-09-03  "
      ]
     },
     "execution_count": 39,
     "metadata": {},
     "output_type": "execute_result"
    }
   ],
   "source": [
    "# merging games df with newly formated date column\n",
    "gamesaa_date = pd.merge(gamesaa,schedule_date, how='left', on='gid')\n",
    "gamesaa_date.head()"
   ]
  },
  {
   "cell_type": "code",
   "execution_count": 42,
   "metadata": {},
   "outputs": [],
   "source": [
    "# create unifying ID column called date_id \n",
    "# by combining date field with home team field\n",
    "gamesaa_date['date_id'] = gamesaa_date['date2']+gamesaa_date['h']"
   ]
  },
  {
   "cell_type": "code",
   "execution_count": 43,
   "metadata": {},
   "outputs": [
    {
     "data": {
      "text/plain": [
       "Index(['gid', 'seas', 'wk', 'day', 'v', 'h', 'stad', 'temp', 'humd', 'wspd',\n",
       "       'wdir', 'cond', 'surf', 'ou', 'sprv', 'ptsv', 'ptsh', 'date', 'date2',\n",
       "       'date_id'],\n",
       "      dtype='object')"
      ]
     },
     "execution_count": 43,
     "metadata": {},
     "output_type": "execute_result"
    }
   ],
   "source": [
    "# inspecting which columns are useful for new data file\n",
    "gamesaa_date.columns"
   ]
  },
  {
   "cell_type": "code",
   "execution_count": 44,
   "metadata": {},
   "outputs": [
    {
     "data": {
      "text/html": [
       "<div>\n",
       "<style scoped>\n",
       "    .dataframe tbody tr th:only-of-type {\n",
       "        vertical-align: middle;\n",
       "    }\n",
       "\n",
       "    .dataframe tbody tr th {\n",
       "        vertical-align: top;\n",
       "    }\n",
       "\n",
       "    .dataframe thead th {\n",
       "        text-align: right;\n",
       "    }\n",
       "</style>\n",
       "<table border=\"1\" class=\"dataframe\">\n",
       "  <thead>\n",
       "    <tr style=\"text-align: right;\">\n",
       "      <th></th>\n",
       "      <th>gid</th>\n",
       "      <th>stad</th>\n",
       "      <th>temp</th>\n",
       "      <th>humd</th>\n",
       "      <th>wspd</th>\n",
       "      <th>wdir</th>\n",
       "      <th>cond</th>\n",
       "      <th>surf</th>\n",
       "      <th>h</th>\n",
       "      <th>date2</th>\n",
       "      <th>date_id</th>\n",
       "    </tr>\n",
       "  </thead>\n",
       "  <tbody>\n",
       "    <tr>\n",
       "      <th>0</th>\n",
       "      <td>1</td>\n",
       "      <td>Georgia Dome</td>\n",
       "      <td>79.0</td>\n",
       "      <td>NaN</td>\n",
       "      <td>NaN</td>\n",
       "      <td>NaN</td>\n",
       "      <td>Dome</td>\n",
       "      <td>AstroTurf</td>\n",
       "      <td>ATL</td>\n",
       "      <td>2000-09-03</td>\n",
       "      <td>2000-09-03ATL</td>\n",
       "    </tr>\n",
       "    <tr>\n",
       "      <th>1</th>\n",
       "      <td>2</td>\n",
       "      <td>Cleveland Browns Stadium</td>\n",
       "      <td>78.0</td>\n",
       "      <td>63.0</td>\n",
       "      <td>9.0</td>\n",
       "      <td>NE</td>\n",
       "      <td>Sunny</td>\n",
       "      <td>Grass</td>\n",
       "      <td>CLE</td>\n",
       "      <td>2000-09-03</td>\n",
       "      <td>2000-09-03CLE</td>\n",
       "    </tr>\n",
       "    <tr>\n",
       "      <th>2</th>\n",
       "      <td>3</td>\n",
       "      <td>Texas Stadium</td>\n",
       "      <td>109.0</td>\n",
       "      <td>19.0</td>\n",
       "      <td>5.0</td>\n",
       "      <td>S</td>\n",
       "      <td>Sunny</td>\n",
       "      <td>AstroTurf</td>\n",
       "      <td>DAL</td>\n",
       "      <td>2000-09-03</td>\n",
       "      <td>2000-09-03DAL</td>\n",
       "    </tr>\n",
       "    <tr>\n",
       "      <th>3</th>\n",
       "      <td>4</td>\n",
       "      <td>Lambeau Field</td>\n",
       "      <td>77.0</td>\n",
       "      <td>66.0</td>\n",
       "      <td>5.0</td>\n",
       "      <td>E</td>\n",
       "      <td>Mostly Cloudy</td>\n",
       "      <td>Grass</td>\n",
       "      <td>GB</td>\n",
       "      <td>2000-09-03</td>\n",
       "      <td>2000-09-03GB</td>\n",
       "    </tr>\n",
       "    <tr>\n",
       "      <th>4</th>\n",
       "      <td>5</td>\n",
       "      <td>Arrowhead Stadium</td>\n",
       "      <td>90.0</td>\n",
       "      <td>50.0</td>\n",
       "      <td>8.0</td>\n",
       "      <td>E</td>\n",
       "      <td>Mostly Sunny</td>\n",
       "      <td>Grass</td>\n",
       "      <td>KC</td>\n",
       "      <td>2000-09-03</td>\n",
       "      <td>2000-09-03KC</td>\n",
       "    </tr>\n",
       "  </tbody>\n",
       "</table>\n",
       "</div>"
      ],
      "text/plain": [
       "   gid                      stad   temp  humd  wspd wdir           cond  \\\n",
       "0    1              Georgia Dome   79.0   NaN   NaN  NaN           Dome   \n",
       "1    2  Cleveland Browns Stadium   78.0  63.0   9.0   NE          Sunny   \n",
       "2    3             Texas Stadium  109.0  19.0   5.0    S          Sunny   \n",
       "3    4             Lambeau Field   77.0  66.0   5.0    E  Mostly Cloudy   \n",
       "4    5         Arrowhead Stadium   90.0  50.0   8.0    E   Mostly Sunny   \n",
       "\n",
       "        surf    h       date2        date_id  \n",
       "0  AstroTurf  ATL  2000-09-03  2000-09-03ATL  \n",
       "1      Grass  CLE  2000-09-03  2000-09-03CLE  \n",
       "2  AstroTurf  DAL  2000-09-03  2000-09-03DAL  \n",
       "3      Grass   GB  2000-09-03   2000-09-03GB  \n",
       "4      Grass   KC  2000-09-03   2000-09-03KC  "
      ]
     },
     "execution_count": 44,
     "metadata": {},
     "output_type": "execute_result"
    }
   ],
   "source": [
    "# creating new df with columns related to playing conditions\n",
    "conditions = gamesaa_date[['gid', 'stad', 'temp', 'humd', 'wspd',\n",
    "       'wdir', 'cond', 'surf','h','date2', 'date_id']]\n",
    "conditions.head()"
   ]
  },
  {
   "cell_type": "code",
   "execution_count": 45,
   "metadata": {},
   "outputs": [
    {
     "data": {
      "text/plain": [
       "(5057, 11)"
      ]
     },
     "execution_count": 45,
     "metadata": {},
     "output_type": "execute_result"
    }
   ],
   "source": [
    "conditions.shape"
   ]
  },
  {
   "cell_type": "code",
   "execution_count": 46,
   "metadata": {},
   "outputs": [],
   "source": [
    "# saving created file to data folder in csv format\n",
    "conditions.to_csv('../data/conditions.csv', index=False)"
   ]
  }
 ],
 "metadata": {
  "kernelspec": {
   "display_name": "Python 3",
   "language": "python",
   "name": "python3"
  },
  "language_info": {
   "codemirror_mode": {
    "name": "ipython",
    "version": 3
   },
   "file_extension": ".py",
   "mimetype": "text/x-python",
   "name": "python",
   "nbconvert_exporter": "python",
   "pygments_lexer": "ipython3",
   "version": "3.6.8"
  }
 },
 "nbformat": 4,
 "nbformat_minor": 2
}
