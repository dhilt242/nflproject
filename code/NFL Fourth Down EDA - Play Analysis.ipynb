{
 "cells": [
  {
   "cell_type": "code",
   "execution_count": 2,
   "metadata": {},
   "outputs": [],
   "source": [
    "import pandas as pd\n",
    "import numpy as np\n",
    "import seaborn as sns\n",
    "from scipy import stats\n",
    "import matplotlib.pyplot as plt\n",
    "%matplotlib inline\n",
    "sns.set(style=\"whitegrid\")\n",
    "plt.style.use('tableau-colorblind10')"
   ]
  },
  {
   "cell_type": "code",
   "execution_count": 3,
   "metadata": {},
   "outputs": [],
   "source": [
    "pbpfoc4 = pd.read_csv('../data/pbpfoc4.csv')"
   ]
  },
  {
   "cell_type": "code",
   "execution_count": 4,
   "metadata": {},
   "outputs": [
    {
     "data": {
      "text/html": [
       "<div>\n",
       "<style scoped>\n",
       "    .dataframe tbody tr th:only-of-type {\n",
       "        vertical-align: middle;\n",
       "    }\n",
       "\n",
       "    .dataframe tbody tr th {\n",
       "        vertical-align: top;\n",
       "    }\n",
       "\n",
       "    .dataframe thead th {\n",
       "        text-align: right;\n",
       "    }\n",
       "</style>\n",
       "<table border=\"1\" class=\"dataframe\">\n",
       "  <thead>\n",
       "    <tr style=\"text-align: right;\">\n",
       "      <th></th>\n",
       "      <th>play_id</th>\n",
       "      <th>game_id</th>\n",
       "      <th>date_id</th>\n",
       "      <th>home_team</th>\n",
       "      <th>away_team</th>\n",
       "      <th>posteam</th>\n",
       "      <th>posteam_type</th>\n",
       "      <th>defteam</th>\n",
       "      <th>side_of_field</th>\n",
       "      <th>yardline_100</th>\n",
       "      <th>...</th>\n",
       "      <th>pass_touchdown</th>\n",
       "      <th>rush_touchdown</th>\n",
       "      <th>return_touchdown</th>\n",
       "      <th>stad</th>\n",
       "      <th>temp</th>\n",
       "      <th>humd</th>\n",
       "      <th>wspd</th>\n",
       "      <th>wdir</th>\n",
       "      <th>cond</th>\n",
       "      <th>surf</th>\n",
       "    </tr>\n",
       "  </thead>\n",
       "  <tbody>\n",
       "    <tr>\n",
       "      <th>0</th>\n",
       "      <td>139</td>\n",
       "      <td>2009091000</td>\n",
       "      <td>2009-09-10PIT</td>\n",
       "      <td>PIT</td>\n",
       "      <td>TEN</td>\n",
       "      <td>PIT</td>\n",
       "      <td>home</td>\n",
       "      <td>TEN</td>\n",
       "      <td>PIT</td>\n",
       "      <td>56.0</td>\n",
       "      <td>...</td>\n",
       "      <td>0.0</td>\n",
       "      <td>0.0</td>\n",
       "      <td>0.0</td>\n",
       "      <td>Heinz Field</td>\n",
       "      <td>67.0</td>\n",
       "      <td>54.0</td>\n",
       "      <td>9.0</td>\n",
       "      <td>E</td>\n",
       "      <td>Mostly Cloudy</td>\n",
       "      <td>Grass</td>\n",
       "    </tr>\n",
       "    <tr>\n",
       "      <th>1</th>\n",
       "      <td>228</td>\n",
       "      <td>2009091000</td>\n",
       "      <td>2009-09-10PIT</td>\n",
       "      <td>PIT</td>\n",
       "      <td>TEN</td>\n",
       "      <td>TEN</td>\n",
       "      <td>away</td>\n",
       "      <td>PIT</td>\n",
       "      <td>TEN</td>\n",
       "      <td>96.0</td>\n",
       "      <td>...</td>\n",
       "      <td>0.0</td>\n",
       "      <td>0.0</td>\n",
       "      <td>0.0</td>\n",
       "      <td>Heinz Field</td>\n",
       "      <td>67.0</td>\n",
       "      <td>54.0</td>\n",
       "      <td>9.0</td>\n",
       "      <td>E</td>\n",
       "      <td>Mostly Cloudy</td>\n",
       "      <td>Grass</td>\n",
       "    </tr>\n",
       "    <tr>\n",
       "      <th>2</th>\n",
       "      <td>365</td>\n",
       "      <td>2009091000</td>\n",
       "      <td>2009-09-10PIT</td>\n",
       "      <td>PIT</td>\n",
       "      <td>TEN</td>\n",
       "      <td>PIT</td>\n",
       "      <td>home</td>\n",
       "      <td>TEN</td>\n",
       "      <td>TEN</td>\n",
       "      <td>41.0</td>\n",
       "      <td>...</td>\n",
       "      <td>0.0</td>\n",
       "      <td>0.0</td>\n",
       "      <td>0.0</td>\n",
       "      <td>Heinz Field</td>\n",
       "      <td>67.0</td>\n",
       "      <td>54.0</td>\n",
       "      <td>9.0</td>\n",
       "      <td>E</td>\n",
       "      <td>Mostly Cloudy</td>\n",
       "      <td>Grass</td>\n",
       "    </tr>\n",
       "    <tr>\n",
       "      <th>3</th>\n",
       "      <td>522</td>\n",
       "      <td>2009091000</td>\n",
       "      <td>2009-09-10PIT</td>\n",
       "      <td>PIT</td>\n",
       "      <td>TEN</td>\n",
       "      <td>TEN</td>\n",
       "      <td>away</td>\n",
       "      <td>PIT</td>\n",
       "      <td>PIT</td>\n",
       "      <td>19.0</td>\n",
       "      <td>...</td>\n",
       "      <td>0.0</td>\n",
       "      <td>0.0</td>\n",
       "      <td>0.0</td>\n",
       "      <td>Heinz Field</td>\n",
       "      <td>67.0</td>\n",
       "      <td>54.0</td>\n",
       "      <td>9.0</td>\n",
       "      <td>E</td>\n",
       "      <td>Mostly Cloudy</td>\n",
       "      <td>Grass</td>\n",
       "    </tr>\n",
       "    <tr>\n",
       "      <th>4</th>\n",
       "      <td>603</td>\n",
       "      <td>2009091000</td>\n",
       "      <td>2009-09-10PIT</td>\n",
       "      <td>PIT</td>\n",
       "      <td>TEN</td>\n",
       "      <td>PIT</td>\n",
       "      <td>home</td>\n",
       "      <td>TEN</td>\n",
       "      <td>PIT</td>\n",
       "      <td>79.0</td>\n",
       "      <td>...</td>\n",
       "      <td>0.0</td>\n",
       "      <td>0.0</td>\n",
       "      <td>0.0</td>\n",
       "      <td>Heinz Field</td>\n",
       "      <td>67.0</td>\n",
       "      <td>54.0</td>\n",
       "      <td>9.0</td>\n",
       "      <td>E</td>\n",
       "      <td>Mostly Cloudy</td>\n",
       "      <td>Grass</td>\n",
       "    </tr>\n",
       "  </tbody>\n",
       "</table>\n",
       "<p>5 rows × 84 columns</p>\n",
       "</div>"
      ],
      "text/plain": [
       "   play_id     game_id        date_id home_team away_team posteam  \\\n",
       "0      139  2009091000  2009-09-10PIT       PIT       TEN     PIT   \n",
       "1      228  2009091000  2009-09-10PIT       PIT       TEN     TEN   \n",
       "2      365  2009091000  2009-09-10PIT       PIT       TEN     PIT   \n",
       "3      522  2009091000  2009-09-10PIT       PIT       TEN     TEN   \n",
       "4      603  2009091000  2009-09-10PIT       PIT       TEN     PIT   \n",
       "\n",
       "  posteam_type defteam side_of_field  yardline_100  ... pass_touchdown  \\\n",
       "0         home     TEN           PIT          56.0  ...            0.0   \n",
       "1         away     PIT           TEN          96.0  ...            0.0   \n",
       "2         home     TEN           TEN          41.0  ...            0.0   \n",
       "3         away     PIT           PIT          19.0  ...            0.0   \n",
       "4         home     TEN           PIT          79.0  ...            0.0   \n",
       "\n",
       "   rush_touchdown  return_touchdown         stad  temp  humd  wspd  wdir  \\\n",
       "0             0.0               0.0  Heinz Field  67.0  54.0   9.0     E   \n",
       "1             0.0               0.0  Heinz Field  67.0  54.0   9.0     E   \n",
       "2             0.0               0.0  Heinz Field  67.0  54.0   9.0     E   \n",
       "3             0.0               0.0  Heinz Field  67.0  54.0   9.0     E   \n",
       "4             0.0               0.0  Heinz Field  67.0  54.0   9.0     E   \n",
       "\n",
       "            cond   surf  \n",
       "0  Mostly Cloudy  Grass  \n",
       "1  Mostly Cloudy  Grass  \n",
       "2  Mostly Cloudy  Grass  \n",
       "3  Mostly Cloudy  Grass  \n",
       "4  Mostly Cloudy  Grass  \n",
       "\n",
       "[5 rows x 84 columns]"
      ]
     },
     "execution_count": 4,
     "metadata": {},
     "output_type": "execute_result"
    }
   ],
   "source": [
    "pbpfoc4.head()"
   ]
  },
  {
   "cell_type": "code",
   "execution_count": 6,
   "metadata": {},
   "outputs": [
    {
     "data": {
      "text/plain": [
       "play_id                         int64\n",
       "game_id                         int64\n",
       "date_id                        object\n",
       "home_team                      object\n",
       "away_team                      object\n",
       "posteam                        object\n",
       "posteam_type                   object\n",
       "defteam                        object\n",
       "side_of_field                  object\n",
       "yardline_100                  float64\n",
       "game_date                      object\n",
       "quarter_seconds_remaining     float64\n",
       "half_seconds_remaining        float64\n",
       "game_seconds_remaining        float64\n",
       "game_half                      object\n",
       "quarter_end                     int64\n",
       "drive                           int64\n",
       "sp                              int64\n",
       "qtr                             int64\n",
       "down                          float64\n",
       "goal_to_go                    float64\n",
       "time                           object\n",
       "yrdln                          object\n",
       "ydstogo                         int64\n",
       "ydsnet                          int64\n",
       "desc                           object\n",
       "play_type                      object\n",
       "yards_gained                  float64\n",
       "shotgun                         int64\n",
       "no_huddle                       int64\n",
       "qb_dropback                   float64\n",
       "qb_scramble                     int64\n",
       "pass_length                    object\n",
       "pass_location                  object\n",
       "air_yards                     float64\n",
       "yards_after_catch             float64\n",
       "run_location                   object\n",
       "run_gap                        object\n",
       "home_timeouts_remaining         int64\n",
       "away_timeouts_remaining         int64\n",
       "timeout                       float64\n",
       "timeout_team                   object\n",
       "td_team                        object\n",
       "posteam_timeouts_remaining    float64\n",
       "defteam_timeouts_remaining    float64\n",
       "total_home_score                int64\n",
       "total_away_score                int64\n",
       "posteam_score                 float64\n",
       "defteam_score                 float64\n",
       "score_differential            float64\n",
       "dtype: object"
      ]
     },
     "execution_count": 6,
     "metadata": {},
     "output_type": "execute_result"
    }
   ],
   "source": [
    "pbpfoc4.dtypes[:50]"
   ]
  },
  {
   "cell_type": "code",
   "execution_count": 7,
   "metadata": {},
   "outputs": [
    {
     "data": {
      "text/plain": [
       "posteam_score_post         float64\n",
       "defteam_score_post         float64\n",
       "score_differential_post    float64\n",
       "first_down_rush            float64\n",
       "first_down_pass            float64\n",
       "first_down_penalty         float64\n",
       "third_down_converted       float64\n",
       "third_down_failed          float64\n",
       "fourth_down_converted      float64\n",
       "fourth_down_failed         float64\n",
       "incomplete_pass            float64\n",
       "interception               float64\n",
       "fumble_forced              float64\n",
       "fumble_not_forced          float64\n",
       "fumble_out_of_bounds       float64\n",
       "solo_tackle                float64\n",
       "penalty                    float64\n",
       "tackled_for_loss           float64\n",
       "fumble_lost                float64\n",
       "qb_hit                     float64\n",
       "rush_attempt               float64\n",
       "pass_attempt               float64\n",
       "sack                       float64\n",
       "touchdown                  float64\n",
       "pass_touchdown             float64\n",
       "rush_touchdown             float64\n",
       "return_touchdown           float64\n",
       "stad                        object\n",
       "temp                       float64\n",
       "humd                       float64\n",
       "wspd                       float64\n",
       "wdir                        object\n",
       "cond                        object\n",
       "surf                        object\n",
       "dtype: object"
      ]
     },
     "execution_count": 7,
     "metadata": {},
     "output_type": "execute_result"
    }
   ],
   "source": [
    "pbpfoc4.dtypes[50:]"
   ]
  },
  {
   "cell_type": "code",
   "execution_count": 5,
   "metadata": {},
   "outputs": [
    {
     "data": {
      "text/plain": [
       "punt          23912\n",
       "field_goal     8988\n",
       "pass           3006\n",
       "no_play        1875\n",
       "run            1715\n",
       "qb_kneel         29\n",
       "Name: play_type, dtype: int64"
      ]
     },
     "execution_count": 5,
     "metadata": {},
     "output_type": "execute_result"
    }
   ],
   "source": [
    "pbpfoc4['play_type'].value_counts()"
   ]
  },
  {
   "cell_type": "code",
   "execution_count": 6,
   "metadata": {},
   "outputs": [],
   "source": [
    "pbpfoc4pass = pbpfoc4[pbpfoc4['play_type']=='pass']"
   ]
  },
  {
   "cell_type": "code",
   "execution_count": 7,
   "metadata": {},
   "outputs": [
    {
     "data": {
      "text/plain": [
       "right     1131\n",
       "left       913\n",
       "middle     741\n",
       "Name: pass_location, dtype: int64"
      ]
     },
     "execution_count": 7,
     "metadata": {},
     "output_type": "execute_result"
    }
   ],
   "source": [
    "pbpfoc4pass['pass_location'].value_counts()"
   ]
  },
  {
   "cell_type": "code",
   "execution_count": 8,
   "metadata": {},
   "outputs": [],
   "source": [
    "pbpfoc4run = pbpfoc4[pbpfoc4['play_type']=='run']"
   ]
  },
  {
   "cell_type": "code",
   "execution_count": 15,
   "metadata": {},
   "outputs": [
    {
     "data": {
      "text/plain": [
       "(1715, 84)"
      ]
     },
     "execution_count": 15,
     "metadata": {},
     "output_type": "execute_result"
    }
   ],
   "source": [
    "pbpfoc4run.shape"
   ]
  },
  {
   "cell_type": "code",
   "execution_count": 9,
   "metadata": {},
   "outputs": [
    {
     "data": {
      "text/plain": [
       "middle    692\n",
       "right     490\n",
       "left      462\n",
       "Name: run_location, dtype: int64"
      ]
     },
     "execution_count": 9,
     "metadata": {},
     "output_type": "execute_result"
    }
   ],
   "source": [
    "pbpfoc4run['run_location'].value_counts()"
   ]
  },
  {
   "cell_type": "code",
   "execution_count": 10,
   "metadata": {},
   "outputs": [
    {
     "data": {
      "text/plain": [
       "end       371\n",
       "guard     359\n",
       "tackle    224\n",
       "Name: run_gap, dtype: int64"
      ]
     },
     "execution_count": 10,
     "metadata": {},
     "output_type": "execute_result"
    }
   ],
   "source": [
    "pbpfoc4run['run_gap'].value_counts()"
   ]
  },
  {
   "cell_type": "code",
   "execution_count": 12,
   "metadata": {},
   "outputs": [
    {
     "data": {
      "image/png": "[encoded data removed]",
      "text/plain": [
       "<Figure size 432x288 with 1 Axes>"
      ]
     },
     "metadata": {},
     "output_type": "display_data"
    }
   ],
   "source": [
    "# success percentages of 4th down by field position (group into 20yds)\n",
    "sns.set(style=\"whitegrid\")\n",
    "plt.style.use('tableau-colorblind10')\n",
    "ax = sns.countplot(x=\"pass_location\", hue=\"fourth_down_converted\", data=pbpfoc4pass)\n",
    "sns.set(font_scale=1.5)\n",
    "ax.spines[\"top\"].set_visible(False)    \n",
    "ax.spines[\"bottom\"].set_visible(False)    \n",
    "ax.spines[\"right\"].set_visible(False)    \n",
    "ax.spines[\"left\"].set_visible(False)\n",
    "fig = ax.get_figure()\n",
    "fig.savefig('../images/pass_location.png')"
   ]
  },
  {
   "cell_type": "code",
   "execution_count": 13,
   "metadata": {},
   "outputs": [
    {
     "data": {
      "image/png": "[encoded data removed]",
      "text/plain": [
       "<Figure size 432x288 with 1 Axes>"
      ]
     },
     "metadata": {},
     "output_type": "display_data"
    }
   ],
   "source": [
    "# success percentages of 4th down by field position (group into 20yds)\n",
    "sns.set(style=\"whitegrid\")\n",
    "plt.style.use('tableau-colorblind10')\n",
    "ax = sns.countplot(x=\"run_location\", hue=\"fourth_down_converted\", data=pbpfoc4run)\n",
    "sns.set(font_scale=1.5)\n",
    "ax.spines[\"top\"].set_visible(False)    \n",
    "ax.spines[\"bottom\"].set_visible(False)    \n",
    "ax.spines[\"right\"].set_visible(False)    \n",
    "ax.spines[\"left\"].set_visible(False)\n",
    "fig = ax.get_figure()\n",
    "fig.savefig('../images/run_location.png')"
   ]
  },
  {
   "cell_type": "code",
   "execution_count": 14,
   "metadata": {},
   "outputs": [
    {
     "data": {
      "image/png": "[encoded data removed]",
      "text/plain": [
       "<Figure size 432x288 with 1 Axes>"
      ]
     },
     "metadata": {},
     "output_type": "display_data"
    }
   ],
   "source": [
    "# success percentages of 4th down by field position (group into 20yds)\n",
    "sns.set(style=\"whitegrid\")\n",
    "plt.style.use('tableau-colorblind10')\n",
    "ax = sns.countplot(x=\"run_gap\", hue=\"fourth_down_converted\", data=pbpfoc4run)\n",
    "sns.set(font_scale=1.5)\n",
    "ax.spines[\"top\"].set_visible(False)    \n",
    "ax.spines[\"bottom\"].set_visible(False)    \n",
    "ax.spines[\"right\"].set_visible(False)    \n",
    "ax.spines[\"left\"].set_visible(False)\n",
    "fig = ax.get_figure()\n",
    "fig.savefig('../images/run_gap.png')"
   ]
  },
  {
   "cell_type": "code",
   "execution_count": null,
   "metadata": {},
   "outputs": [],
   "source": []
  }
 ],
 "metadata": {
  "kernelspec": {
   "display_name": "Python 3",
   "language": "python",
   "name": "python3"
  },
  "language_info": {
   "codemirror_mode": {
    "name": "ipython",
    "version": 3
   },
   "file_extension": ".py",
   "mimetype": "text/x-python",
   "name": "python",
   "nbconvert_exporter": "python",
   "pygments_lexer": "ipython3",
   "version": "3.6.8"
  }
 },
 "nbformat": 4,
 "nbformat_minor": 2
}
