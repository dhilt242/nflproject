{
 "cells": [
  {
   "cell_type": "code",
   "execution_count": 1,
   "metadata": {},
   "outputs": [],
   "source": [
    "import pandas as pd"
   ]
  },
  {
   "cell_type": "code",
   "execution_count": 2,
   "metadata": {},
   "outputs": [],
   "source": [
    "pbpfoc4go = pd.read_csv('../data/pbpfoc4go.csv')"
   ]
  },
  {
   "cell_type": "code",
   "execution_count": 3,
   "metadata": {},
   "outputs": [],
   "source": [
    "pbpfoc4gomdl = pbpfoc4go[['date_id', 'yardline_100','quarter_seconds_remaining', \n",
    "        'half_seconds_remaining','game_seconds_remaining',\n",
    "       'qtr', 'down', 'goal_to_go','ydstogo','play_type', 'yards_gained', \n",
    "        'shotgun', 'no_huddle','qb_dropback','qb_scramble', 'pass_length',\n",
    "       'pass_location', 'air_yards', 'yards_after_catch', 'run_location',\n",
    "       'run_gap','posteam_timeouts_remaining','posteam_score','defteam_score', \n",
    "        'score_differential','fourth_down_converted','fourth_down_failed', 'rush_attempt', \n",
    "        'pass_attempt','temp', 'humd', 'wspd','cond']]"
   ]
  },
  {
   "cell_type": "code",
   "execution_count": 4,
   "metadata": {},
   "outputs": [
    {
     "data": {
      "text/plain": [
       "date_id                        object\n",
       "yardline_100                  float64\n",
       "quarter_seconds_remaining     float64\n",
       "half_seconds_remaining        float64\n",
       "game_seconds_remaining        float64\n",
       "qtr                             int64\n",
       "down                          float64\n",
       "goal_to_go                    float64\n",
       "ydstogo                         int64\n",
       "play_type                      object\n",
       "yards_gained                  float64\n",
       "shotgun                         int64\n",
       "no_huddle                       int64\n",
       "qb_dropback                   float64\n",
       "qb_scramble                     int64\n",
       "pass_length                    object\n",
       "pass_location                  object\n",
       "air_yards                     float64\n",
       "yards_after_catch             float64\n",
       "run_location                   object\n",
       "run_gap                        object\n",
       "posteam_timeouts_remaining    float64\n",
       "posteam_score                 float64\n",
       "defteam_score                 float64\n",
       "score_differential            float64\n",
       "fourth_down_converted         float64\n",
       "fourth_down_failed            float64\n",
       "rush_attempt                  float64\n",
       "pass_attempt                  float64\n",
       "temp                          float64\n",
       "humd                          float64\n",
       "wspd                          float64\n",
       "cond                           object\n",
       "dtype: object"
      ]
     },
     "execution_count": 4,
     "metadata": {},
     "output_type": "execute_result"
    }
   ],
   "source": [
    "pbpfoc4gomdl.dtypes"
   ]
  },
  {
   "cell_type": "code",
   "execution_count": 5,
   "metadata": {},
   "outputs": [
    {
     "data": {
      "text/plain": [
       "Cloudy           1024\n",
       "Sunny            1006\n",
       "Dome              599\n",
       "Closed Roof       483\n",
       "Clear             418\n",
       "Partly Cloudy     418\n",
       "Rain              184\n",
       "Mostly Cloudy     170\n",
       "Mostly Sunny       87\n",
       "Chance Rain        61\n",
       "Snow               48\n",
       "Partly Sunny       47\n",
       "Fair               26\n",
       "Light Rain         18\n",
       "Flurries           14\n",
       "Hazy               13\n",
       "Light Snow          8\n",
       "Thunderstorms       5\n",
       "Windy               4\n",
       "Cold                4\n",
       "Overcast            4\n",
       "Covered Roof        4\n",
       "Showers             3\n",
       "Foggy               2\n",
       "Light Showers       2\n",
       "Partly CLoudy       1\n",
       "Name: cond, dtype: int64"
      ]
     },
     "execution_count": 5,
     "metadata": {},
     "output_type": "execute_result"
    }
   ],
   "source": [
    "pbpfoc4gomdl['cond'].value_counts()"
   ]
  },
  {
   "cell_type": "code",
   "execution_count": 6,
   "metadata": {},
   "outputs": [
    {
     "name": "stderr",
     "output_type": "stream",
     "text": [
      "/anaconda3/lib/python3.6/site-packages/ipykernel_launcher.py:16: SettingWithCopyWarning: \n",
      "A value is trying to be set on a copy of a slice from a DataFrame.\n",
      "Try using .loc[row_indexer,col_indexer] = value instead\n",
      "\n",
      "See the caveats in the documentation: http://pandas.pydata.org/pandas-docs/stable/indexing.html#indexing-view-versus-copy\n",
      "  app.launch_new_instance()\n"
     ]
    },
    {
     "data": {
      "text/plain": [
       "0    4509\n",
       "1     212\n",
       "Name: rain, dtype: int64"
      ]
     },
     "execution_count": 6,
     "metadata": {},
     "output_type": "execute_result"
    }
   ],
   "source": [
    "rain = [] \n",
    "for value in pbpfoc4gomdl[\"cond\"]: \n",
    "    if value == 'Rain': \n",
    "        rain.append(1) \n",
    "    elif value == 'Light Rain': \n",
    "        rain.append(1)\n",
    "    elif value == 'Thunderstorms': \n",
    "        rain.append(1)       \n",
    "    elif value == 'Showers': \n",
    "        rain.append(1)\n",
    "    elif value == 'Light Showers': \n",
    "        rain.append(1)\n",
    "    else: \n",
    "        rain.append(0) \n",
    "\n",
    "pbpfoc4gomdl[\"rain\"] = pd.Series(rain)\n",
    "pbpfoc4gomdl[\"rain\"].value_counts()"
   ]
  },
  {
   "cell_type": "code",
   "execution_count": 7,
   "metadata": {},
   "outputs": [
    {
     "name": "stderr",
     "output_type": "stream",
     "text": [
      "/anaconda3/lib/python3.6/site-packages/ipykernel_launcher.py:12: SettingWithCopyWarning: \n",
      "A value is trying to be set on a copy of a slice from a DataFrame.\n",
      "Try using .loc[row_indexer,col_indexer] = value instead\n",
      "\n",
      "See the caveats in the documentation: http://pandas.pydata.org/pandas-docs/stable/indexing.html#indexing-view-versus-copy\n",
      "  if sys.path[0] == '':\n"
     ]
    },
    {
     "data": {
      "text/plain": [
       "0    4651\n",
       "1      70\n",
       "Name: snow, dtype: int64"
      ]
     },
     "execution_count": 7,
     "metadata": {},
     "output_type": "execute_result"
    }
   ],
   "source": [
    "snow = [] \n",
    "for value in pbpfoc4gomdl[\"cond\"]: \n",
    "    if value == 'Snow': \n",
    "        snow.append(1) \n",
    "    elif value == 'Flurries': \n",
    "        snow.append(1)\n",
    "    elif value == 'Light Snow': \n",
    "        snow.append(1)\n",
    "    else: \n",
    "        snow.append(0) \n",
    "\n",
    "pbpfoc4gomdl[\"snow\"] = pd.Series(snow)\n",
    "pbpfoc4gomdl[\"snow\"].value_counts()"
   ]
  },
  {
   "cell_type": "code",
   "execution_count": 8,
   "metadata": {},
   "outputs": [
    {
     "data": {
      "text/plain": [
       "date_id                        object\n",
       "yardline_100                  float64\n",
       "quarter_seconds_remaining     float64\n",
       "half_seconds_remaining        float64\n",
       "game_seconds_remaining        float64\n",
       "qtr                             int64\n",
       "down                          float64\n",
       "goal_to_go                    float64\n",
       "ydstogo                         int64\n",
       "play_type                      object\n",
       "yards_gained                  float64\n",
       "shotgun                         int64\n",
       "no_huddle                       int64\n",
       "qb_dropback                   float64\n",
       "qb_scramble                     int64\n",
       "pass_length                    object\n",
       "pass_location                  object\n",
       "air_yards                     float64\n",
       "yards_after_catch             float64\n",
       "run_location                   object\n",
       "run_gap                        object\n",
       "posteam_timeouts_remaining    float64\n",
       "posteam_score                 float64\n",
       "defteam_score                 float64\n",
       "score_differential            float64\n",
       "fourth_down_converted         float64\n",
       "fourth_down_failed            float64\n",
       "rush_attempt                  float64\n",
       "pass_attempt                  float64\n",
       "temp                          float64\n",
       "humd                          float64\n",
       "wspd                          float64\n",
       "cond                           object\n",
       "rain                            int64\n",
       "snow                            int64\n",
       "dtype: object"
      ]
     },
     "execution_count": 8,
     "metadata": {},
     "output_type": "execute_result"
    }
   ],
   "source": [
    "pbpfoc4gomdl.dtypes"
   ]
  },
  {
   "cell_type": "code",
   "execution_count": 16,
   "metadata": {},
   "outputs": [],
   "source": [
    "# example of replacing values in a column:\n",
    "# ckd['y'] = [1 if i == 'ckd' else 0 for i in ckd['class']]"
   ]
  },
  {
   "cell_type": "code",
   "execution_count": 17,
   "metadata": {},
   "outputs": [],
   "source": [
    "pbpfoc4gomdl1 = pd.get_dummies(pbpfoc4gomdl,columns = ['run_location'],dtype='int64')"
   ]
  },
  {
   "cell_type": "code",
   "execution_count": 18,
   "metadata": {},
   "outputs": [],
   "source": [
    "pbpfoc4gomdl2 = pd.get_dummies(pbpfoc4gomdl1,columns = ['run_gap'],dtype='int64')"
   ]
  },
  {
   "cell_type": "code",
   "execution_count": 19,
   "metadata": {},
   "outputs": [],
   "source": [
    "pbpfoc4gomdl3 = pd.get_dummies(pbpfoc4gomdl2,columns = ['pass_location'],dtype='int64')"
   ]
  },
  {
   "cell_type": "code",
   "execution_count": 22,
   "metadata": {},
   "outputs": [],
   "source": [
    "pbpfoc4gomdlF = pd.get_dummies(pbpfoc4gomdl3,columns = ['pass_length'],dtype='int64')"
   ]
  },
  {
   "cell_type": "code",
   "execution_count": 23,
   "metadata": {},
   "outputs": [
    {
     "data": {
      "text/plain": [
       "date_id                        object\n",
       "yardline_100                  float64\n",
       "quarter_seconds_remaining     float64\n",
       "half_seconds_remaining        float64\n",
       "game_seconds_remaining        float64\n",
       "qtr                             int64\n",
       "down                          float64\n",
       "goal_to_go                    float64\n",
       "ydstogo                         int64\n",
       "play_type                      object\n",
       "yards_gained                  float64\n",
       "shotgun                         int64\n",
       "no_huddle                       int64\n",
       "qb_dropback                   float64\n",
       "qb_scramble                     int64\n",
       "air_yards                     float64\n",
       "yards_after_catch             float64\n",
       "posteam_timeouts_remaining    float64\n",
       "posteam_score                 float64\n",
       "defteam_score                 float64\n",
       "score_differential            float64\n",
       "fourth_down_converted         float64\n",
       "fourth_down_failed            float64\n",
       "rush_attempt                  float64\n",
       "pass_attempt                  float64\n",
       "temp                          float64\n",
       "humd                          float64\n",
       "wspd                          float64\n",
       "cond                           object\n",
       "rain                            int64\n",
       "snow                            int64\n",
       "run_location_left               int64\n",
       "run_location_middle             int64\n",
       "run_location_right              int64\n",
       "run_gap_end                     int64\n",
       "run_gap_guard                   int64\n",
       "run_gap_tackle                  int64\n",
       "pass_location_left              int64\n",
       "pass_location_middle            int64\n",
       "pass_location_right             int64\n",
       "pass_length_deep                int64\n",
       "pass_length_short               int64\n",
       "dtype: object"
      ]
     },
     "execution_count": 23,
     "metadata": {},
     "output_type": "execute_result"
    }
   ],
   "source": [
    "pbpfoc4gomdlF.dtypes"
   ]
  },
  {
   "cell_type": "code",
   "execution_count": 24,
   "metadata": {},
   "outputs": [],
   "source": [
    "pbpfoc4gomdlF.to_csv('../data/pbpfoc4gomdlF.csv')"
   ]
  },
  {
   "cell_type": "code",
   "execution_count": null,
   "metadata": {},
   "outputs": [],
   "source": []
  }
 ],
 "metadata": {
  "kernelspec": {
   "display_name": "Python 3",
   "language": "python",
   "name": "python3"
  },
  "language_info": {
   "codemirror_mode": {
    "name": "ipython",
    "version": 3
   },
   "file_extension": ".py",
   "mimetype": "text/x-python",
   "name": "python",
   "nbconvert_exporter": "python",
   "pygments_lexer": "ipython3",
   "version": "3.6.8"
  }
 },
 "nbformat": 4,
 "nbformat_minor": 2
}
